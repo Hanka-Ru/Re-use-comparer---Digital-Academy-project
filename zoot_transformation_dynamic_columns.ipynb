{
#SQL transformace Zalando Mango kalhoty Muzi

import csv
import uuid

# Paths for input and output
input_path = 'in/tables/Zalando_mango_kalhoty_zeny.csv'
output_path = 'out/tables/Zalando_mango_kalhoty_zeny_hanka_test.csv'

# Fixed values for new columns
condition = 'Nové s visačkou'
category = 'Ženy'
product = 'Kalhoty'
e_shop = 'Zalando'

# Prepare list to store transformed rows
transformed_rows = []

# Open the input file and process with DictReader
with open(input_path, mode='r', encoding='utf-8') as infile:
	reader = csv.DictReader(infile)

	# Iterate through each row in the input file
	for row in reader:
    	# Generate a unique 'database_id' for each product (same for all sizes of this product)
    	product_id = str(uuid.uuid4())
   	 
    	# Process each size independently
    	size_keys = [key for key in row if key.endswith('_size')]
    	stock_status_keys = [key.replace('_size', '_stockStatus') for key in size_keys]

    	for size_key, stock_key in zip(size_keys, stock_status_keys):
        	# Only include sizes that are not "OUT_OF_STOCK" and not empty
        	if row.get(stock_key) not in ["OUT_OF_STOCK", ""]:
            	# Construct a new row for each valid size
            	transformed_row = {
                	'database_id': product_id,  # Same 'database_id' for all sizes of this product
                	'name': row['name'],
                	'url': row['url'],
                	'brand_name': row['brand_name'],
                	'price': float(row['price_current']) if row['price_current'] else None,  # Renamed column
                	'condition': condition,  # Renamed column
                	'category': category,
                	'product': product,
                	'size': row[size_key],  # Only the specific size for this row
                	'e_shop': e_shop  # New column
            	}

            	# Append the transformed row to the list
            	transformed_rows.append(transformed_row)

# Define the header for the output file with new column names
header = ['database_id', 'name', 'url', 'brand_name', 'price', 'condition', 'category', 'product', 'size', 'e_shop']

# Write the transformed data to the output CSV file
with open(output_path, mode='w', newline='', encoding='utf-8') as outfile:
	writer = csv.DictWriter(outfile, fieldnames=header)
	writer.writeheader()
	writer.writerows(transformed_rows)
}
